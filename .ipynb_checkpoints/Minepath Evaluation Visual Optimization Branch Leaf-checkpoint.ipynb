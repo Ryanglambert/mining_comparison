{
 "cells": [
  {
   "cell_type": "code",
   "execution_count": null,
   "metadata": {
    "collapsed": false
   },
   "outputs": [],
   "source": [
    "import numpy as np\n",
    "import matplotlib.pyplot as plt, mpld3\n",
    "from mpl_toolkits.mplot3d import Axes3D\n",
    "import pandas as pd\n",
    "import scipy as sp\n",
    "import scipy.stats\n",
    "import plotly.plotly as py\n",
    "from plotly.graph_objs import *\n",
    "\n"
   ]
  },
  {
   "cell_type": "code",
   "execution_count": null,
   "metadata": {
    "collapsed": true
   },
   "outputs": [],
   "source": [
    "import block_handler\n",
    "import plot_chunk"
   ]
  },
  {
   "cell_type": "markdown",
   "metadata": {},
   "source": [
    "#  Minepath Eval"
   ]
  },
  {
   "cell_type": "code",
   "execution_count": null,
   "metadata": {
    "collapsed": false
   },
   "outputs": [],
   "source": [
    "world = block_handler.load_world('/Users/ryanlambert/Desktop/MinecraftLandGenerator/world')"
   ]
  },
  {
   "cell_type": "code",
   "execution_count": null,
   "metadata": {
    "collapsed": true
   },
   "outputs": [],
   "source": [
    "#print world.get_nbt(-9,-46)['Level']['Sections'][0]['Blocks']"
   ]
  },
  {
   "cell_type": "code",
   "execution_count": null,
   "metadata": {
    "collapsed": false
   },
   "outputs": [],
   "source": [
    "bounding_box = world.get_boundingbox()\n",
    "bounding_box"
   ]
  },
  {
   "cell_type": "markdown",
   "metadata": {},
   "source": [
    "## Path Type: Branch_Leaf\n",
    "Combinations of various heights and spacings"
   ]
  },
  {
   "cell_type": "code",
   "execution_count": null,
   "metadata": {
    "collapsed": false,
    "scrolled": true
   },
   "outputs": [],
   "source": [
    "class HallwayMining:\n",
    "    def __init__(self, min_x, max_x, min_z, max_z, min_y, max_y):\n",
    "        self.min_x = min_x\n",
    "        self.max_x = max_x\n",
    "        self.min_z = min_z\n",
    "        self.max_z = max_z\n",
    "        self.min_y = min_y\n",
    "        self.max_y = max_y   \n",
    "\n",
    "        \n",
    "        \n",
    "    def mine_hallway(self,\n",
    "                     leaf_spacing, \n",
    "                     branch_spacing, \n",
    "                     max_y_height, \n",
    "                     y_layer_spacing):\n",
    "        ### mine path must fit in 48 x 48 space\n",
    "\n",
    "        hallway = []\n",
    "        for y_pattern in xrange(0, max_y_height - y_layer_spacing, y_layer_spacing): \n",
    "            for x in xrange(6, 42, branch_spacing):\n",
    "                for z in xrange(2, 47):\n",
    "                    for y in range(6 + y_pattern,8 + y_pattern):\n",
    "                        hallway.append((x,z,y))\n",
    "            ### leaves\n",
    "                for z in xrange(3, 48, leaf_spacing): \n",
    "                    for x_2 in xrange(x, x + 6): \n",
    "                        for y in range(7 + y_pattern,8 + y_pattern):\n",
    "                            hallway.append((x_2,z,y))\n",
    "                    for x_3 in xrange(x - 5, x): \n",
    "                        for y in range(7 + y_pattern,8 + y_pattern):\n",
    "                            hallway.append((x_3,z,y))  \n",
    "                            \n",
    "        fig = plt.figure()\n",
    "        ax = fig.add_subplot(111, projection='3d')\n",
    "        try:\n",
    "            xs = [i[0] for i in hallway]\n",
    "            zs = [j[1] for j in hallway]\n",
    "            ys = [k[2] for k in hallway]\n",
    "            ax.scatter(xs, zs, ys, color='green', marker='|')\n",
    "            ax.set_zlim3d([0, 17]) \n",
    "            ax.set_xlabel('X')\n",
    "            ax.set_ylabel('Z')\n",
    "            ax.set_zlabel('Y')\n",
    "        except KeyError:\n",
    "            print \"keyerror\"\n",
    "            pass\n",
    "\n",
    "\n",
    "                        \n",
    "        hallway_ore_filter = {\n",
    "            'iron':0,\n",
    "            'diamond':0,\n",
    "#             'redstone':0,\n",
    "#             'coal':0,\n",
    "            'gold':0,\n",
    "        }\n",
    "\n",
    "        blocks, mining_pathway = block_handler.simulation(\n",
    "            x1=self.min_x,\n",
    "            x2=self.max_x,\n",
    "            z1=self.min_z,\n",
    "            z2=self.max_z,\n",
    "            y1=self.min_y,\n",
    "            y2=self.max_y,\n",
    "            relative_path=hallway,\n",
    "            ore_count=hallway_ore_filter,\n",
    "            world=world,\n",
    "            plot=True)\n",
    "\n",
    "        multi_index_labels = [\n",
    "            'leaf_spacing', \n",
    "            'branch_spacing', \n",
    "            'max_y_height', \n",
    "            'y_layer_spacing'\n",
    "        ]\n",
    "        multi_index_columns = [\n",
    "            leaf_spacing, \n",
    "            branch_spacing, \n",
    "            max_y_height, \n",
    "            y_layer_spacing\n",
    "        ]\n",
    "\n",
    "        ore_columns = pd.MultiIndex.from_arrays(\n",
    "            multi_index_columns,\n",
    "            names=multi_index_labels\n",
    "        )\n",
    "        path_columns = pd.MultiIndex.from_arrays(\n",
    "            multi_index_columns,\n",
    "            names=multi_index_labels,\n",
    "        )\n",
    "\n",
    "        temp_ores = pd.DataFrame(\n",
    "            blocks.values(),\n",
    "            index=[\n",
    "                [i[0] for i in blocks.keys()],\n",
    "                [i[1] for i in blocks.keys()],\n",
    "                [i[2] for i in blocks.keys()],\n",
    "            ],\n",
    "            columns=ore_columns)\n",
    "\n",
    "\n",
    "        temp_pathway = pd.DataFrame(\n",
    "            ['pathway' for i in mining_pathway],\n",
    "            index=[\n",
    "                [i[0] for i in mining_pathway],\n",
    "                [i[1] for i in mining_pathway],\n",
    "                [i[2] for i in mining_pathway],\n",
    "            ],\n",
    "            columns=path_columns\n",
    "        )\n",
    "    #     temp = pd.concat([temp_ores, temp_pathway], join='outer', axis=1)\n",
    "    #     return temp\n",
    "        return temp_ores, temp_pathway\n",
    "\n",
    "\n",
    "\n",
    "    def mine_hallway_configurations(self,\n",
    "                                    leaf_spacings, \n",
    "                                    branch_spacings, \n",
    "                                    y_layer_spacings,\n",
    "                                    max_y_height,\n",
    "                                    branches_per_sample):\n",
    "        df_sample_size = pd.DataFrame()\n",
    "        df_ores = pd.DataFrame()\n",
    "        df_paths = pd.DataFrame()\n",
    "        for y_layer_spacing in y_layer_spacings:\n",
    "            for branch_spacing in branch_spacings:\n",
    "                for leaf_spacing in leaf_spacings:\n",
    "                    temp_ores, temp_pathway = self.mine_hallway(\n",
    "                        leaf_spacing=leaf_spacing, \n",
    "                        branch_spacing=branch_spacing, \n",
    "                        max_y_height=max_y_height, \n",
    "                        y_layer_spacing=y_layer_spacing\n",
    "                    )\n",
    "                    sample_size_coordinates = pd.Series(\n",
    "                        {\n",
    "                        'x_sample_size':branch_spacing * branches_per_sample,\n",
    "                        'z_sample_size':branch_spacing * branches_per_sample,\n",
    "                        'y_sampe_size':y_layer_spacing\n",
    "                        },\n",
    "                        name='%r, %r, %r' % (\n",
    "                            leaf_spacing,\n",
    "                            branch_spacing,\n",
    "                            y_layer_spacing\n",
    "                        )\n",
    "                    )\n",
    "\n",
    "                    import pdb\n",
    "                    pdb.set_trace()\n",
    "        #             df = pd.concat([df, temp], join='outer', axis=1)\n",
    "                    df_ores = pd.concat([df_ores, temp_ores], join='outer', axis=1)            \n",
    "                    df_paths = pd.concat([df_paths, temp_pathway], join='outer', axis=1)\n",
    "                    df_sample_size = df_sample_size.append(sample_size_coordinates)\n",
    "\n",
    "        df_ores = df_ores.sortlevel(2).sortlevel(1).sortlevel(0)\n",
    "        df_paths = df_paths.sortlevel(2).sortlevel(1).sortlevel(0)\n",
    "        df_sample_size = df_sample_size.sort()\n",
    "        return df_ores, df_paths, df_sample_size\n",
    "\n",
    "    def cases_sample_sum_counts(self, df_ores):\n",
    "        newdf_ores = pd.DataFrame()\n",
    "        for column in df_ores:\n",
    "            x_sample_size = int(df_sample_size['x_sample_size'][str([column[0], \n",
    "                                                                     column[1], \n",
    "                                                                     column[2]]\n",
    "                                                                   ).strip(']').strip('[')])\n",
    "            z_sample_size = int(df_sample_size['z_sample_size'][str([column[0], \n",
    "                                                                     column[1], \n",
    "                                                                     column[2]]\n",
    "                                                                   ).strip(']').strip('[')])\n",
    "            for x_subset in range(self.min_x * 16, \n",
    "                                  self.max_x * 16, \n",
    "                                  x_sample_size):\n",
    "                for z_subset in range(self.min_z * 16, \n",
    "                                      self.max_z * 16, \n",
    "                                      z_sample_size):\n",
    "                    temp_append = df_ores.loc[\n",
    "                    (\n",
    "                        slice(x_subset, x_subset + x_sample_size - 1),\n",
    "                        slice(z_subset, z_subset + z_sample_size - 1),                    \n",
    "                    ),\n",
    "                    :\n",
    "                ][column[0]][column[1]][column[2]].value_counts()\n",
    "                    temp_append.name = '%s, %s, %s' % (column[0], \n",
    "                                                       column[1], \n",
    "                                                       column[2])\n",
    "\n",
    "                    newdf_ores = newdf_ores.append(temp_append)\n",
    "        newdf_ores = newdf_ores.sort()\n",
    "        return newdf_ores\n",
    "    \n",
    "hallway = HallwayMining(min_x=-3, \n",
    "                        max_x=3, \n",
    "                        min_z=-3, \n",
    "                        max_z=3, \n",
    "                        min_y=0, \n",
    "                        max_y=1)\n",
    "\n",
    "df_ores, df_paths, df_sample_size = hallway.mine_hallway_configurations(\n",
    "    leaf_spacings=[3,], \n",
    "    branch_spacings=[14, 16], \n",
    "    max_y_height=15, \n",
    "    y_layer_spacings=[4],\n",
    "    branches_per_sample=1)\n",
    "\n",
    "\n",
    "newdf_ores = hallway.cases_sample_sum_counts(df_ores)\n",
    "newdf_path_count = hallway.cases_sample_sum_counts(df_paths)\n",
    "\n",
    "path_size_mean = newdf_path_count.groupby(newdf_path_count.index).mean()\n",
    "newdf_ores_count = newdf_ores.groupby(newdf_ores.index).count()\n",
    "\n",
    "\n"
   ]
  },
  {
   "cell_type": "code",
   "execution_count": null,
   "metadata": {
    "collapsed": false
   },
   "outputs": [],
   "source": [
    "branch_spacing = 14\n",
    "branches_per_sample = 1\n",
    "y_layer_spacing = 4\n",
    "max_y_height = 16\n",
    "\n",
    "someway = HallwayMining(min_x=0,\n",
    "                       max_x=3,\n",
    "                       min_z=0,\n",
    "                       max_z=3,\n",
    "                       min_y=0,\n",
    "                       max_y=1)\n",
    "\n",
    "temp_ores, temp_pathway = someway.mine_hallway(\n",
    "    leaf_spacing=leaf_spacing, \n",
    "    branch_spacing=branch_spacing, \n",
    "    max_y_height=max_y_height, \n",
    "    y_layer_spacing=y_layer_spacing\n",
    ")\n",
    "sample_size_coordinates = pd.Series(\n",
    "    {\n",
    "    'x_sample_size':branch_spacing * branches_per_sample,\n",
    "    'z_sample_size':branch_spacing * branches_per_sample,\n",
    "    'y_sampe_size':y_layer_spacing\n",
    "    },\n",
    "    name='%r, %r, %r' % (\n",
    "        leaf_spacing,\n",
    "        branch_spacing,\n",
    "        y_layer_spacing\n",
    "    )\n",
    ")\n",
    "\n",
    "\n",
    "#             df = pd.concat([df, temp], join='outer', axis=1)\n",
    "df_ores = pd.concat([df_ores, temp_ores], join='outer', axis=1)"
   ]
  },
  {
   "cell_type": "code",
   "execution_count": null,
   "metadata": {
    "collapsed": false
   },
   "outputs": [],
   "source": [
    "df_ores"
   ]
  },
  {
   "cell_type": "markdown",
   "metadata": {},
   "source": [
    "## Mean, STDEV, Sample Count, Confidence"
   ]
  },
  {
   "cell_type": "code",
   "execution_count": null,
   "metadata": {
    "collapsed": false,
    "scrolled": true
   },
   "outputs": [],
   "source": [
    "individual_sample_efficiencies = newdf_ores.divide(newdf_path_count['pathway'], axis='index')\n",
    "newdf_ores_sample_count = pd.DataFrame(newdf_ores.index.value_counts(), \n",
    "             columns=['sample_size']\n",
    "            ).sort()\n",
    "\n",
    "efficiency_means = individual_sample_efficiencies.fillna(0).groupby(\n",
    "    individual_sample_efficiencies.index).mean()\n",
    "\n",
    "efficiency_stdevs = individual_sample_efficiencies.fillna(0).groupby(\n",
    "    individual_sample_efficiencies.index).std()\n",
    "\n",
    "efficiency_stderrors = efficiency_stdevs.divide(\n",
    "    np.sqrt(newdf_ores_sample_count['sample_size']),\n",
    "    axis='index')\n",
    "\n",
    "confidence_margins_95 = pd.DataFrame()\n",
    "confidence = .95\n",
    "for i in efficiency_stderrors.index:\n",
    "    temp = efficiency_stderrors.loc[i] * sp.stats.t.ppf(\n",
    "        (1 + confidence)/2.,\n",
    "        newdf_ores_sample_count['sample_size'].loc[i])\n",
    "    \n",
    "    confidence_margins_95 = confidence_margins_95.append(temp)\n",
    "confidence_margins_95\n"
   ]
  },
  {
   "cell_type": "code",
   "execution_count": null,
   "metadata": {
    "collapsed": false,
    "scrolled": true
   },
   "outputs": [],
   "source": [
    "efficiency_means.plot(kind='bar',\n",
    "                      yerr=confidence_margins_95, \n",
    "                      figsize=(10,5),\n",
    "                     title='Hallway Spacing, Hallway Height, Y Spacing',)"
   ]
  },
  {
   "cell_type": "code",
   "execution_count": null,
   "metadata": {
    "collapsed": false,
    "scrolled": true
   },
   "outputs": [],
   "source": [
    "diamond_efficiency_sorted = efficiency_means['iron']#.sort(['diamond', 'gold'], ascending=False, axis='index')\n",
    "diamond_efficiency_sorted.plot(kind='bar',\n",
    "                      yerr=confidence_margins_95, \n",
    "                      figsize=(10,5),\n",
    "                        title='Hallway Spacing, Hallway, Height\\nY Spacing',)"
   ]
  },
  {
   "cell_type": "code",
   "execution_count": null,
   "metadata": {
    "collapsed": false,
    "scrolled": true
   },
   "outputs": [],
   "source": [
    "diamond_efficiency_sorted = efficiency_means['diamond']#.sort(['diamond', 'gold'], ascending=False, axis='index')\n",
    "diamond_efficiency_sorted.plot(kind='bar',\n",
    "                      yerr=confidence_margins_95, \n",
    "                      figsize=(10,5),\n",
    "                        title='Hallway Spacing, Hallway, Height\\nY Spacing',)"
   ]
  },
  {
   "cell_type": "code",
   "execution_count": null,
   "metadata": {
    "collapsed": false
   },
   "outputs": [],
   "source": [
    "diamond_efficiency_sorted['4, 2, 4']"
   ]
  },
  {
   "cell_type": "markdown",
   "metadata": {},
   "source": [
    "### I do declare the following to be the best spacing \n",
    "Hallway Spacing = 4\n",
    "\n",
    "Hallway Height = 2\n",
    "\n",
    "Y Spacing = 4"
   ]
  },
  {
   "cell_type": "markdown",
   "metadata": {},
   "source": [
    "After filtering for diamond I am a bit confused what's going on on the right of the chart.  Due to the much larger ranges of confidence I'm going to stick with the bars that have hallway spacing of 4.  \n",
    "\n",
    "Also, looking at the trend for Iron reinforces this decision.  There are probably more iron's available to contribute to a more confident sample here.  \n",
    "\n",
    "At this point it does feel like I'm splitting hairs.  The only purpose of this experiment is to compare different mining styles, not to optimize the shit out of each different one.  \n",
    "\n",
    "In my Udacity class I've discovered this is a decent problem for ANOVA.  https://discussions.udacity.com/t/has-anyone-did-t-test-for-p0-project/28846/11\n",
    "I  shall come back to this once I've learned how to do that!  "
   ]
  },
  {
   "cell_type": "code",
   "execution_count": null,
   "metadata": {
    "collapsed": false
   },
   "outputs": [],
   "source": [
    "efficiency_means.loc['4, 2, 4']"
   ]
  },
  {
   "cell_type": "code",
   "execution_count": null,
   "metadata": {
    "collapsed": false
   },
   "outputs": [],
   "source": [
    "optimized_hallway_stats = pd.DataFrame([efficiency_means.loc['4, 2, 4'], efficiency_stdevs.loc['4, 2, 4']], index=['mean', 'stdev'])\n",
    "optimized_hallway_stats"
   ]
  },
  {
   "cell_type": "code",
   "execution_count": null,
   "metadata": {
    "collapsed": false
   },
   "outputs": [],
   "source": [
    "optimized_hallway_stats.to_csv('optimized_hallway_stats_4_2_4.csv')"
   ]
  },
  {
   "cell_type": "markdown",
   "metadata": {},
   "source": [
    "# from here on is incomplete"
   ]
  },
  {
   "cell_type": "markdown",
   "metadata": {
    "collapsed": true
   },
   "source": [
    "##### Send to plot.ly"
   ]
  },
  {
   "cell_type": "code",
   "execution_count": null,
   "metadata": {
    "collapsed": false
   },
   "outputs": [],
   "source": [
    "top_diamond_performers.T.index.tolist()"
   ]
  },
  {
   "cell_type": "code",
   "execution_count": null,
   "metadata": {
    "collapsed": false
   },
   "outputs": [],
   "source": [
    "branch_leaf_data = top_diamond_performers.T['branch_leaf lf_space=4 br_space=12'].tolist()\n",
    "one_by_two = top_diamond_performers.T['one_by_two_3space'].tolist()"
   ]
  },
  {
   "cell_type": "code",
   "execution_count": null,
   "metadata": {
    "collapsed": false
   },
   "outputs": [],
   "source": [
    "trace1 = Bar(\n",
    "    x=top_diamond_performers.T.index.tolist(),\n",
    "    y=branch_leaf_data,\n",
    "    name='branch_leaf'\n",
    ")\n",
    "\n",
    "trace2 = Bar(\n",
    "    x=top_diamond_performers.T.index.tolist(),\n",
    "    y=one_by_two,\n",
    "    name='one_by_two'\n",
    ")\n",
    "\n",
    "data = Data([trace1, trace2])\n",
    "layout = Layout(\n",
    "    barmode='group'\n",
    ")\n",
    "fig = Figure(data=data, layout=layout)\n",
    "plot_url = py.plot(fig, filename='test1234')"
   ]
  },
  {
   "cell_type": "code",
   "execution_count": null,
   "metadata": {
    "collapsed": true
   },
   "outputs": [],
   "source": []
  },
  {
   "cell_type": "code",
   "execution_count": null,
   "metadata": {
    "collapsed": true
   },
   "outputs": [],
   "source": []
  },
  {
   "cell_type": "code",
   "execution_count": null,
   "metadata": {
    "collapsed": true
   },
   "outputs": [],
   "source": []
  },
  {
   "cell_type": "code",
   "execution_count": null,
   "metadata": {
    "collapsed": true
   },
   "outputs": [],
   "source": []
  },
  {
   "cell_type": "code",
   "execution_count": null,
   "metadata": {
    "collapsed": true
   },
   "outputs": [],
   "source": []
  },
  {
   "cell_type": "code",
   "execution_count": null,
   "metadata": {
    "collapsed": true
   },
   "outputs": [],
   "source": []
  }
 ],
 "metadata": {
  "kernelspec": {
   "display_name": "Python 2",
   "language": "python",
   "name": "python2"
  },
  "language_info": {
   "codemirror_mode": {
    "name": "ipython",
    "version": 2
   },
   "file_extension": ".py",
   "mimetype": "text/x-python",
   "name": "python",
   "nbconvert_exporter": "python",
   "pygments_lexer": "ipython2",
   "version": "2.7.9"
  }
 },
 "nbformat": 4,
 "nbformat_minor": 0
}
